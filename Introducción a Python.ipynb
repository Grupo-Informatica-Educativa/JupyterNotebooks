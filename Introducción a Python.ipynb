{
 "cells": [
  {
   "cell_type": "markdown",
   "metadata": {},
   "source": [
    "# PC para Tod@s - Introducción a Python y Automatización"
   ]
  },
  {
   "cell_type": "markdown",
   "metadata": {},
   "source": [
    "Estos Notebooks de Python fueron creados por el profesor Camilo Vieira (PhD), coordinador del grupo de *Informática Educativa* para el curso de Pensamiento Computacional para Tod@s de la Universidad del Norte, en Barranquilla - Colombia. \n",
    "\n",
    "Todos estos materiales cuentan con una licencia **Creative Commons** de libre uso con atribución.\n",
    "\n",
    "**Información de Contacto:** \n",
    "- cvieira@uninorte.edu.co\n",
    "- @cvieiram\n",
    "- https://cvieira77.wixsite.com/personal"
   ]
  },
  {
   "cell_type": "markdown",
   "metadata": {},
   "source": [
    "## Python y Jupyter\n",
    "*Python* es un lenguaje de programación muy usado en **ciencias humanas y exactas**. Python te permite crear programas que resuelvan problemas automatizando tareas repetitivas, procesando grandes cantidades de datos, resolviendo complejos cálculos matemáticos, o simplemente, creando visualizaciones de fenónenos complejos. \n",
    "\n",
    "*Jupyter* es un editor de texto y código que nos permite integrar éstos dos elementos en una página web que llamaremos NoteBook NB), para poder integrar explicaciones, ejecutar código, e incluir ejercicios prácticos. Cada que encuentres el texto **In [ ]** a la izquierda de una caja de texto, quiere decir que puedes ejecutar esta instrucción.\n",
    "\n",
    "Al finalizar esta actividad estarás en capacidad de:\n",
    "- Explicar pequeñas secuencias de pasos escritas en Python para hacer operaciones matemáticas\n",
    "- Modificar instrucciones en Python para resolver problemas específicos\n"
   ]
  },
  {
   "cell_type": "markdown",
   "metadata": {},
   "source": [
    "### Instrucciones, Variables, y Operaciones Matemáticas"
   ]
  },
  {
   "cell_type": "markdown",
   "metadata": {},
   "source": [
    "Comencemos por lo más sencillo... Recuerda que programar significa darle instrucciones al computador para que haga lo que yo quiera. Podemos comenzar por pedirle que imprima algo para nosotros: "
   ]
  },
  {
   "cell_type": "code",
   "execution_count": null,
   "metadata": {},
   "outputs": [],
   "source": [
    "print('Mi primera instrucción al computador!')"
   ]
  },
  {
   "cell_type": "markdown",
   "metadata": {},
   "source": [
    "### Actividad\n",
    "Lo que hicimos fue simplemente decirle al computador que imprimiera (**print**) el texto que estaba entre las comillas. Ahora tu puedes hacer que imprima algo diferente. Escribe tu instrucción en el siguiente espacio y luego lo podrás ejecutar. "
   ]
  },
  {
   "cell_type": "code",
   "execution_count": null,
   "metadata": {},
   "outputs": [],
   "source": []
  },
  {
   "cell_type": "markdown",
   "metadata": {},
   "source": [
    "Vamos a hacer algo más interesante, vamos a crear una variable y hacer algunas operaciones con ésta.\n",
    "\n",
    "Una variable es *un espacio donde podemos guardar un valor*. A diferencia de otros lenguajes de programación, en Python no es necesario establecer un tipo de dato desde el inicio, sino que nuestra variable puede tomar cualquier valor. Por ejemplo, en la siguiente instrucción estamos asignando el valor de **5,** a la variable **y**."
   ]
  },
  {
   "cell_type": "code",
   "execution_count": null,
   "metadata": {},
   "outputs": [],
   "source": [
    "y=5"
   ]
  },
  {
   "cell_type": "markdown",
   "metadata": {},
   "source": [
    "Por ahora no vemos nada, pero ¿qué tal si imprimirmos la variable **y**?"
   ]
  },
  {
   "cell_type": "code",
   "execution_count": null,
   "metadata": {},
   "outputs": [],
   "source": [
    "print(y)"
   ]
  },
  {
   "cell_type": "markdown",
   "metadata": {},
   "source": [
    "Nota que en este caso no pusimos las comillas. Esto es porque en la parte de arriba queríamos imprimir el texto entre comillas, mientras aquí queríamos imprimir el contenido de una variable **y**. Mira lo que ocurre si pones las comillas:"
   ]
  },
  {
   "cell_type": "code",
   "execution_count": null,
   "metadata": {},
   "outputs": [],
   "source": [
    "print('y')"
   ]
  },
  {
   "cell_type": "markdown",
   "metadata": {},
   "source": [
    "Como el valor que asignamos a la variable **y** es un número, podemos hacer algunas operaciones matemáticas con esta variable. Por ejemplo, acá vamos a multiplicarla por 2, y almacenar el resultado en una nueva variable **x**."
   ]
  },
  {
   "cell_type": "code",
   "execution_count": null,
   "metadata": {},
   "outputs": [],
   "source": [
    "x = y*2"
   ]
  },
  {
   "cell_type": "markdown",
   "metadata": {},
   "source": [
    "### Actividad\n",
    "Divide el valor de *x* entre 3, y verifica el resultado"
   ]
  },
  {
   "cell_type": "code",
   "execution_count": null,
   "metadata": {},
   "outputs": [],
   "source": []
  },
  {
   "cell_type": "markdown",
   "metadata": {},
   "source": [
    "Otros operadores matemáticos que podemos usar en Python son **+, -, /, y \\****. Éste último ( \\** ) corresponde a la potenciación. Por ejemplo: **x\\*\\*2,** significa *x al cuadrado*. **Pruébalo en el siguiente espacio**"
   ]
  },
  {
   "cell_type": "code",
   "execution_count": null,
   "metadata": {},
   "outputs": [],
   "source": []
  },
  {
   "cell_type": "markdown",
   "metadata": {},
   "source": [
    "Además de estas operaciones matemáticas básicas, también podemos importar otras operaciones o funciones desde una \"**librería**\" (aunque la traducción correcta de **library** es *biblioteca*, en español se ha vuelto más común hablar de librerías). \n",
    "\n",
    "Por ejemplo, podemos usar la función raíz cuadrada **sqrt** importando **math**."
   ]
  },
  {
   "cell_type": "code",
   "execution_count": null,
   "metadata": {},
   "outputs": [],
   "source": [
    "import math\n",
    "math.sqrt(x)"
   ]
  },
  {
   "cell_type": "markdown",
   "metadata": {},
   "source": [
    "Puedes ver todas las funciones que tiene esta biblioteca y cómo se usan, con los siguientes comandos:"
   ]
  },
  {
   "cell_type": "code",
   "execution_count": null,
   "metadata": {},
   "outputs": [],
   "source": [
    "#dir(math)           # Lista de funciones\n",
    "#help(math)          # Ayuda sobre la librería math\n",
    "help(math.sqrt)     # Ayuda sobre la función sqrt"
   ]
  },
  {
   "cell_type": "markdown",
   "metadata": {},
   "source": [
    "En realidad la instrucción anterior solo ejecutó **help(math.sqrt)** . Esto es porque las otras dos instruccinoes tenían el signo **#,** que indica que esa línea es un comentario. Si lo borras del inicio de la línea, podrás ver lo que hacen las funciones **dir(math)** y **help(math)** "
   ]
  },
  {
   "cell_type": "markdown",
   "metadata": {},
   "source": [
    "Librerías como **math** pueden ayudarte a hacer cálculos complejos. Esta es una de las primeras razones por las cuales es muy importante que aprendamos a programar. Un lenguaje como Python te permite automatizar muchos cálculos en poco tiempo."
   ]
  },
  {
   "cell_type": "markdown",
   "metadata": {},
   "source": [
    "### Actividad\n",
    "\n",
    "Asigna la raiz cuadrada de **x,** a una variable **b,** redondea este valor a cero decimales y luego calcula el **factorial** de este número\n"
   ]
  },
  {
   "cell_type": "code",
   "execution_count": null,
   "metadata": {},
   "outputs": [],
   "source": []
  },
  {
   "cell_type": "markdown",
   "metadata": {},
   "source": [
    "Aunque Python no exige declarar un tipo de variable y nunca cambiarlo (como si ocurre en otros lenguajes), cada variable si asume un tipo según el dato que tenga almacenado. Por ejemplo:"
   ]
  },
  {
   "cell_type": "code",
   "execution_count": null,
   "metadata": {},
   "outputs": [],
   "source": [
    "a = 5     # Esto es un Entero (No tiene decimales)\n",
    "b = 5.3   # Esto es un flotante (Un número que puede tener comas decimals)\n",
    "c = '5'   # Esto es un texto, y por ende, no podemos hacer operaciones matemáticas con c"
   ]
  },
  {
   "cell_type": "markdown",
   "metadata": {},
   "source": [
    "Podemos ver el tipo de dato de cada variable con  la función **type**"
   ]
  },
  {
   "cell_type": "code",
   "execution_count": null,
   "metadata": {},
   "outputs": [],
   "source": [
    "type(a)"
   ]
  },
  {
   "cell_type": "code",
   "execution_count": null,
   "metadata": {},
   "outputs": [],
   "source": [
    "type(b)"
   ]
  },
  {
   "cell_type": "code",
   "execution_count": null,
   "metadata": {},
   "outputs": [],
   "source": [
    "type(c)"
   ]
  },
  {
   "cell_type": "markdown",
   "metadata": {},
   "source": [
    "Puedes multiplicar un entero por un flotante:"
   ]
  },
  {
   "cell_type": "code",
   "execution_count": null,
   "metadata": {},
   "outputs": [],
   "source": [
    "a*b"
   ]
  },
  {
   "cell_type": "markdown",
   "metadata": {},
   "source": [
    "Pero si multiplicas números con texto, puedes obtener algunos resultados inesperados:"
   ]
  },
  {
   "cell_type": "code",
   "execution_count": null,
   "metadata": {},
   "outputs": [],
   "source": [
    "a*c"
   ]
  },
  {
   "cell_type": "code",
   "execution_count": null,
   "metadata": {},
   "outputs": [],
   "source": [
    "b*c"
   ]
  },
  {
   "cell_type": "markdown",
   "metadata": {},
   "source": [
    "**Pregunta:** ¿Por que crees que estás obteniendo estos resultados?"
   ]
  },
  {
   "cell_type": "markdown",
   "metadata": {},
   "source": [
    "Tendríamos que hacer una conversión para poder hacer dicha multiplicación:"
   ]
  },
  {
   "cell_type": "code",
   "execution_count": null,
   "metadata": {},
   "outputs": [],
   "source": [
    "int(c)*b"
   ]
  },
  {
   "cell_type": "markdown",
   "metadata": {},
   "source": [
    "Hay además otro tipo de variables. Por ejemplo, las variables **booleanas** solo pueden almacenar dos valores: *verdadero* o *falso* .  Esto sirve por ejemplo cuando quieres saber si una máquina está encendida o apagada, o si una compuerta está abierta o cerrada"
   ]
  },
  {
   "cell_type": "code",
   "execution_count": null,
   "metadata": {},
   "outputs": [],
   "source": [
    "encendido = True\n",
    "print(encendido)\n",
    "type(encendido)"
   ]
  },
  {
   "cell_type": "markdown",
   "metadata": {},
   "source": [
    "## Actividades"
   ]
  },
  {
   "cell_type": "markdown",
   "metadata": {},
   "source": [
    "Vamos ahora a practicar un poco. Completa los siguientes retos de programación:\n",
    "\n",
    "**Promedio**\n",
    "\n",
    "- Calcula tu promedio del semestre pasado, y almacénalo en una variable **x**.\n",
    "\n",
    "**Considera las siguientes ecuaciones:**\n",
    "\n",
    "$$ 4x^2 -2x +30 $$\n",
    "\n",
    "$$ 3x^2 -(2/3)x +26 $$\n",
    "\n",
    "- Utiliza la fórmula general (formula del bachiller) para calcular los posibles valores que puede tomar X, e imprime éstos valores\n",
    "\n",
    "**Calcular la distancia en tres dimensions**\n",
    "\n",
    "- La distancia entre dos átomos en un espacio tridimensional como el de la figura está dado por la siguiente ecuación:\n",
    "\n",
    "$$ d = \\sqrt{(x_2 -x_1)^2+(y_2 -y_1)^2+(z_2 -z_1)^2} $$\n",
    "\n",
    "Donde la posición del átomo 1 está dado por: $$ (x_1, y_1, z_1) $$\n",
    "y la posición del átomo 2 está dado por: $$ (x_2, y_2, z_2) $$\n",
    "\n",
    "<img src=\"https://i.imgur.com/aeu2ccp.gif\" width=\"380\">\n",
    "\n",
    "Calcula la distancia entre dos átomos ubicados en las siguientes posiciones:\n",
    "$$ Atomo_1= (0,1,0) $$ y  $$ Atomo_2= (1,2,-1) $$\n"
   ]
  },
  {
   "cell_type": "code",
   "execution_count": null,
   "metadata": {},
   "outputs": [],
   "source": []
  },
  {
   "cell_type": "markdown",
   "metadata": {},
   "source": [
    "### Listas de Valores\n",
    "U\n",
    "na estructura de datos bastante útil en programación es una lista de valores, a menudo conocida como un arreglo (en inglés, Array ). **Nota:*** En Python hay algunas diferencias menores entre un arreglo y una lista, pero por ahora vamos a asumir que son lo mismo.\n",
    "\n",
    "Para crear una lista, utilizamos los corchetes y separamos los valores de nuestra estructura con una coma. Por ejemplo, en la siguiente instrucción estamos creando una lista llamada **a** con los valores 1, 3, 2, 5, "
   ]
  },
  {
   "cell_type": "code",
   "execution_count": null,
   "metadata": {},
   "outputs": [],
   "source": [
    "a = [1, 3, 2, 5, 2]\n",
    "print(a)"
   ]
  },
  {
   "cell_type": "markdown",
   "metadata": {},
   "source": [
    "Las listas no necesariamente tienen que ser de números, también pueden ser de texto:"
   ]
  },
  {
   "cell_type": "code",
   "execution_count": null,
   "metadata": {},
   "outputs": [],
   "source": [
    "nombres = [\"María\", \"Juan\",\"Andrés\"]\n",
    "print(nombres)"
   ]
  },
  {
   "cell_type": "markdown",
   "metadata": {},
   "source": [
    "Cada valor en la lista puede ser accedida utilizando su posición, donde la primera posición de la lista es considerada la posición **cero.** Por ejemplo, para obtener el valor en la segunda posición de **a** y el tercer nombre en la lista de nombres, utilizamos las siguientes instrucciones:"
   ]
  },
  {
   "cell_type": "code",
   "execution_count": null,
   "metadata": {},
   "outputs": [],
   "source": [
    "print(a[1])\n",
    "print(nombres[2])"
   ]
  },
  {
   "cell_type": "markdown",
   "metadata": {},
   "source": [
    "### Actividad\n",
    "Escribe un programa en Python que imprima uno a uno los tres primeros valores de la lista **a** junto a los tres primeros nombres de la lista"
   ]
  },
  {
   "cell_type": "code",
   "execution_count": null,
   "metadata": {},
   "outputs": [],
   "source": []
  },
  {
   "cell_type": "markdown",
   "metadata": {},
   "source": [
    "Una forma útil de recorrer una lista en Python es utilizando ciclos. Un ciclo es una estructura en la cual le decimos al computador ejecute unas tareas varias veces. El ciclo for es ideal para estas tareas ya que con tan solo la siguiente estructura, ya Python sabrá que necesitamos recorrer todos los elementos de la lista:"
   ]
  },
  {
   "cell_type": "code",
   "execution_count": null,
   "metadata": {},
   "outputs": [],
   "source": [
    "for i in a:\n",
    "    print(i)\n",
    "\n",
    "for y in nombres:\n",
    "    print(y)"
   ]
  },
  {
   "cell_type": "markdown",
   "metadata": {},
   "source": [
    "### Actividad\n",
    "Modifica el código anterior para que imprima todas las combinaciones de números y nombres, así:\n",
    "\n",
    "1 - María\n",
    "\n",
    "1 - Juan\n",
    "\n",
    "1 - Andrés\n",
    "\n",
    "3 - María\n",
    "\n",
    "3 - Juan\n",
    "\n",
    "3 - Andrés\n",
    "\n",
    "2 - María\n",
    "\n",
    "2 - Juan\n",
    "\n",
    "2 - Andrés\n",
    "\n",
    "... y así sucesivamente"
   ]
  },
  {
   "cell_type": "code",
   "execution_count": null,
   "metadata": {},
   "outputs": [],
   "source": []
  },
  {
   "cell_type": "markdown",
   "metadata": {},
   "source": [
    "## Web Scraping"
   ]
  },
  {
   "cell_type": "markdown",
   "metadata": {},
   "source": [
    "Ahora vamos a usar Python para automatizar algunas tareas. Específicamente, queremos usarlo para tomar datos desde algunas páginas web sin necesidad de ir a copiar y pegar manualmente.\n",
    "\n",
    "Aunque hoy en día muchos de los datos están disponibles en la Web para descargas, hay otros sitios web que no ofrecen este servicio. Por ejemplo, .... Para poder descargar esta información necesitamos hacer *Web Scraping*.\n",
    "\n",
    "Cuando accedemos a una página web a través de nuestro navegado (ejem. Chrome), lo que hacemos es hacer una **solicitud** (request) a un servidor a través de un protocolo (una forma predefinida de comunicarse entre computadores) llamado HTTP. Sin embargo, ésta no es la única forma de hacerlo, podemos también hacer dicha **solicitud** desde un programa que nosotros creemos.\n",
    "\n",
    "Cuando hacemos esta solicitud, el servidor nos devuelve la página web en formato *HTML*. Esto significa que tendremos que entender cómo está construida la página para poder sacar los datos de allí."
   ]
  },
  {
   "cell_type": "markdown",
   "metadata": {},
   "source": [
    "**Comencemos...**\n",
    "\n",
    "Lo primero que debemos hacer es llamar una *librería* llamada requests, que nos permitirá hacer la solicitud de una página. \n",
    "\n",
    "Vamos a traernos la página principal de El Heraldo, e imprimir su código html."
   ]
  },
  {
   "cell_type": "code",
   "execution_count": null,
   "metadata": {},
   "outputs": [],
   "source": [
    "import requests\n",
    "\n",
    "URL = \"https://www.elheraldo.co/\"\n",
    "\n",
    "page = requests.get(URL)\n",
    "\n",
    "print(page.content)"
   ]
  },
  {
   "cell_type": "markdown",
   "metadata": {},
   "source": [
    "Como habrás visto, esto trae un código que es difícil de leer para nosotros, pero que los navegadores (como Chrome o Firefox) comprenden y utilizan para pintar las páginas web tal y como las vemos.\n",
    "\n",
    "A nosotros no nos interesan todas las páginas, sino secciones específicas de noticias que podamos tomar. Para esto, debemos entender de manera general cómo está la página creada. Específicamente, vamos a buscar la sección horizontal de noticias en la parte superior, que tiene como id **widget_eh_horizontal_4_noticias**. Utilizamos otra librería, *BeautifulSoup* para acceder fácilmente a las secciones de la página.\n",
    "\n",
    "Pide ayuda a tu docente si aún tienes dudas sobre cómo encontramos esta palabra clave ( *widget_eh_horizontal_4_noticias* )"
   ]
  },
  {
   "cell_type": "code",
   "execution_count": null,
   "metadata": {},
   "outputs": [],
   "source": [
    "from bs4 import BeautifulSoup\n",
    "\n",
    "soup = BeautifulSoup(page.content, \"html.parser\")\n",
    "\n",
    "results = soup.find(id=\"widget_eh_horizontal_4_noticias\")\n",
    "\n",
    "print(results)"
   ]
  },
  {
   "cell_type": "markdown",
   "metadata": {},
   "source": [
    "Esta nueva impresión nos muestra los datos muchos más organizados, y nos permite incluso ver ya algunas noticias que estaban en ésa sección.\n",
    "\n",
    "El tercer paso es sacar cada pedacito de información de cada noticia. Para esto, usamos la función **find_all** y buscamos todas las estructuras de tipo \"div\" que tengan la palabra clave \"text\". Luego, lo recorremos con un ciclo for para tomar cada pedacito."
   ]
  },
  {
   "cell_type": "code",
   "execution_count": null,
   "metadata": {},
   "outputs": [],
   "source": [
    "noticias = results.find_all(\"div\", class_=\"text\")\n",
    "\n",
    "for noticia in noticias:\n",
    "    \n",
    "    titulo = noticia.find(\"h1\")\n",
    "    etiqueta = noticia.find(\"span\", class_=\"tag\")\n",
    "    fecha = noticia.find(\"time\")\n",
    "    print(titulo.text)\n",
    "    print(etiqueta.text)\n",
    "    print(fecha.text)\n",
    "    print()"
   ]
  },
  {
   "cell_type": "markdown",
   "metadata": {},
   "source": [
    "## Actividades\n",
    "Extrae las noticias de una sección diferente en El Heraldo."
   ]
  },
  {
   "cell_type": "code",
   "execution_count": null,
   "metadata": {},
   "outputs": [],
   "source": []
  },
  {
   "cell_type": "markdown",
   "metadata": {},
   "source": [
    "### Otro Ejemplo...\n",
    "Un uso común que le dan al Web Scraping es buscar los precios de ciertos productos en páginas específicas.\n",
    "\n",
    "Por ejemplo, podemos usar la siguiente URL para traer los precios de diferentes audífonos en Mercado Libre."
   ]
  },
  {
   "cell_type": "code",
   "execution_count": null,
   "metadata": {},
   "outputs": [],
   "source": [
    "URL = \"https://listado.mercadolibre.com.co/audifonos#D[A:audifonos]\"\n",
    "page = requests.get(URL)\n",
    "\n",
    "print(page.text)"
   ]
  },
  {
   "cell_type": "markdown",
   "metadata": {},
   "source": [
    "Ahora lo organizamos *BeautifulSoup*"
   ]
  },
  {
   "cell_type": "code",
   "execution_count": null,
   "metadata": {},
   "outputs": [],
   "source": [
    "soup = BeautifulSoup(page.content, \"html.parser\")\n",
    "print(soup)"
   ]
  },
  {
   "cell_type": "markdown",
   "metadata": {},
   "source": [
    "Y tomamos lo que nos interesa..."
   ]
  },
  {
   "cell_type": "code",
   "execution_count": null,
   "metadata": {},
   "outputs": [],
   "source": [
    "results = soup.find(id=\"root-app\")\n",
    "print(results.prettify())\n",
    "\n"
   ]
  },
  {
   "cell_type": "code",
   "execution_count": null,
   "metadata": {},
   "outputs": [],
   "source": [
    "productos = results.find_all(\"div\", class_=\"ui-search-result__wrapper\")\n",
    "\n",
    "for producto in productos:\n",
    "    nombre = producto.find(\"h2\", class_=\"ui-search-item__title\")\n",
    "    #envio = producto.find(\"p\", class_=\"ui-search-item__shipping ui-search-item__shipping--free\")\n",
    "    precio = producto.find(\"span\", class_=\"price-tag-text-sr-only\")\n",
    "    print(nombre.text)\n",
    "    #print(envio.text)\n",
    "    print(precio.text)\n",
    "    print()\n",
    "    "
   ]
  },
  {
   "cell_type": "code",
   "execution_count": null,
   "metadata": {},
   "outputs": [],
   "source": []
  },
  {
   "cell_type": "markdown",
   "metadata": {},
   "source": [
    "### Actividad\n",
    "Descarga los datos de audífonos del sitio web de Falabella "
   ]
  },
  {
   "cell_type": "code",
   "execution_count": null,
   "metadata": {},
   "outputs": [],
   "source": []
  }
 ],
 "metadata": {
  "kernelspec": {
   "display_name": "Python 3",
   "language": "python",
   "name": "python3"
  },
  "language_info": {
   "codemirror_mode": {
    "name": "ipython",
    "version": 3
   },
   "file_extension": ".py",
   "mimetype": "text/x-python",
   "name": "python",
   "nbconvert_exporter": "python",
   "pygments_lexer": "ipython3",
   "version": "3.8.8"
  }
 },
 "nbformat": 4,
 "nbformat_minor": 2
}
